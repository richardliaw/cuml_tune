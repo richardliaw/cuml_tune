{
 "cells": [
  {
   "cell_type": "markdown",
   "metadata": {},
   "source": [
    "### Logistic Regression Notebook for Airplane dataset"
   ]
  },
  {
   "cell_type": "code",
   "execution_count": null,
   "metadata": {},
   "outputs": [],
   "source": [
    "! pip install https://s3-us-west-2.amazonaws.com/ray-wheels/latest/ray-0.9.0.dev0-cp36-cp36m-manylinux1_x86_64.whl\n",
    "! pip install gputil ray[tune] hyperopt"
   ]
  },
  {
   "cell_type": "code",
   "execution_count": null,
   "metadata": {},
   "outputs": [],
   "source": [
    "import cudf\n",
    "import numpy as np\n",
    "import pandas as pd\n",
    "import pickle\n",
    "from datasets import prepare_dataset\n",
    "from sklearn.metrics import accuracy_score\n",
    "\n",
    "\n",
    "from cuml.linear_model.logistic_regression import LogisticRegression as culog\n",
    "\n",
    "import ray\n",
    "from ray import tune\n",
    "from ray.tune.utils import pin_in_object_store, get_pinned_object\n"
   ]
  },
  {
   "cell_type": "code",
   "execution_count": null,
   "metadata": {},
   "outputs": [],
   "source": [
    "%%time\n",
    "# Note : you might need to change the path to the dataset\n",
    "data = prepare_dataset(\"data\", \"airline\", None)\n",
    "X_train, X_test, y_train, y_test = data.X_train, data.X_test, data.y_train, data.y_test\n",
    "y_train = y_train.astype(np.float32)\n",
    "y_test = y_test.astype(np.int32)\n",
    "\n",
    "QUARTER = len(X_train) // 10\n",
    "X_train = X_train[:QUARTER]\n",
    "y_train = y_train[:QUARTER]\n"
   ]
  },
  {
   "cell_type": "code",
   "execution_count": null,
   "metadata": {},
   "outputs": [],
   "source": [
    "ray.shutdown()\n",
    "ray.init()\n",
    "# You may see an error message similar to: \n",
    "# \"The dashboard on node 9928c3082e9d failed with the following error:\"\n",
    "# this is harmless.\n",
    "\n",
    "data_id = pin_in_object_store([X_train, X_test, y_train, y_test])"
   ]
  },
  {
   "cell_type": "code",
   "execution_count": null,
   "metadata": {},
   "outputs": [],
   "source": [
    "import os\n",
    "from filelock import FileLock\n",
    "\n",
    "class CUMLTrainable(tune.Trainable):\n",
    "    def _setup(self, config):\n",
    "        [X_train, X_test, y_train, y_test] = get_pinned_object(data_id)\n",
    "        self._gpu_id = ray.get_gpu_ids()[0]\n",
    "        print(\"Starting new trainable on {}.\".format(self._gpu_id))\n",
    "        self._wait_for_gpus()\n",
    "        \n",
    "        with FileLock(os.path.expanduser(\"~/.tune.gpulock\")):\n",
    "            X_cudf_train = cudf.DataFrame.from_pandas(X_train)\n",
    "            self.train_mat = X_cudf_train.as_gpu_matrix(order=\"F\")\n",
    "            self._gpu_id = ray.get_gpu_ids()[0]\n",
    "            del X_cudf_train\n",
    "            self.X_cudf_test = cudf.DataFrame.from_pandas(X_test)\n",
    "            self.y_cudf_train = cudf.Series(y_train.values)\n",
    "            self.y_test = y_test\n",
    "            config = {k: v for k, v in config.items()}\n",
    "            self.cuml_model = culog(**config)\n",
    "\n",
    "    def _train(self):\n",
    "        self.cuml_model.fit(self.train_mat, self.y_cudf_train)\n",
    "        preds_orig = self.cuml_model.predict(self.X_cudf_test).to_array()\n",
    "        preds_int = preds_orig.astype(np.int32)\n",
    "        accuracy = accuracy_score(self.y_test, preds_orig)\n",
    "        return {\"mean_accuracy\": accuracy}\n",
    "    \n",
    "    def _stop(self):\n",
    "        import time\n",
    "        import GPUtil\n",
    "        gpu_object = GPUtil.getGPUs()[self._gpu_id]\n",
    "        print(\"Deleting the model. Mem: {:0.3f}\".format(gpu_object.memoryUsed))\n",
    "        del self.cuml_model\n",
    "        print(\"Deleting the test set. Mem: {:0.3f}\".format(gpu_object.memoryUsed))\n",
    "        del self.X_cudf_test\n",
    "        print(\"Deleting the test labels. Mem: {:0.3f}\".format(gpu_object.memoryUsed))\n",
    "        del self.y_test\n",
    "        print(\"Deleting the training labels. Mem: {:0.3f}\".format(gpu_object.memoryUsed))\n",
    "        del self.y_cudf_train\n",
    "        print(\"Deleting the training matrix. Mem: {:0.3f}\".format(gpu_object.memoryUsed))\n",
    "        del self.train_mat\n",
    "#         self._wait_for_gpus(retry=1)\n",
    "        \n",
    "        \n",
    "    def _wait_for_gpus(self, retry=10):\n",
    "        import GPUtil\n",
    "        import time\n",
    "        gpu_object = GPUtil.getGPUs()[self._gpu_id]\n",
    "        for i in range(int(retry)):\n",
    "            if gpu_object.memoryUsed > 0.1:\n",
    "                print(\"Waiting for GPU memory to free. Mem: {:0.3f}\".format(gpu_object.memoryUsed))\n",
    "                time.sleep(5)\n",
    "        time.sleep(5)\n",
    "\n",
    "    def reset_config(self, config):\n",
    "        del self.cuml_model\n",
    "        config = {k: v for k, v in config.items()}\n",
    "        self.cuml_model = culog(**config)\n",
    "        return True"
   ]
  },
  {
   "cell_type": "code",
   "execution_count": null,
   "metadata": {},
   "outputs": [],
   "source": [
    "from hyperopt import hp\n",
    "from ray.tune.suggest.hyperopt import HyperOptSearch\n",
    "\n",
    "search_alg = HyperOptSearch(\n",
    "    space={\n",
    "        \"C\":  hp.uniform(\"C\", 0.05, 2.0),\n",
    "        \"tol\": hp.uniform(\"tol\", 1e-4, 1e-1),\n",
    "        \"penalty\": hp.choice(\"penalty\", [\"none\", \"l1\", \"l2\", \"elasticnet\"]),\n",
    "        \"l1_ratio\": hp.choice(\"l1_ratio\", [0.5, 0.7, 0.9])\n",
    "    },\n",
    "    metric=\"mean_accuracy\",\n",
    "    mode=\"max\",\n",
    "    n_initial_points=4,\n",
    "    max_concurrent=10,\n",
    "    points_to_evaluate=[{\"C\": 1.0, \"tol\": 1e-3, \"penalty\": 3, \"l1_ratio\": 0}]\n",
    ")\n",
    "\n",
    "analysis = tune.run(\n",
    "    CUMLTrainable,\n",
    "    resources_per_trial={\"gpu\": 1},\n",
    "    num_samples=50,\n",
    "    stop={\"training_iteration\": 1},\n",
    "    max_failures=0,\n",
    "    search_alg=search_alg\n",
    ")\n"
   ]
  }
 ],
 "metadata": {
  "kernelspec": {
   "display_name": "Python 3",
   "language": "python",
   "name": "python3"
  },
  "language_info": {
   "codemirror_mode": {
    "name": "ipython",
    "version": 3
   },
   "file_extension": ".py",
   "mimetype": "text/x-python",
   "name": "python",
   "nbconvert_exporter": "python",
   "pygments_lexer": "ipython3",
   "version": "3.7.6"
  }
 },
 "nbformat": 4,
 "nbformat_minor": 4
}
